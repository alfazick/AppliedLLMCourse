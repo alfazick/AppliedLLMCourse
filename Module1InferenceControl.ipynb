{
  "nbformat": 4,
  "nbformat_minor": 0,
  "metadata": {
    "colab": {
      "provenance": [],
      "authorship_tag": "ABX9TyOAMY+wKm2jJzQhnnmLRquh",
      "include_colab_link": true
    },
    "kernelspec": {
      "name": "python3",
      "display_name": "Python 3"
    },
    "language_info": {
      "name": "python"
    }
},

    
  "cells": [
    {
      "cell_type": "markdown",
      "metadata": {
        "id": "view-in-github",
        "colab_type": "text"
      },
      "source": [
        "<a href=\"https://colab.research.google.com/github/alfazick/AppliedLLMCourse/blob/main/Module1InferenceControl.ipynb\" target=\"_parent\"><img src=\"https://colab.research.google.com/assets/colab-badge.svg\" alt=\"Open In Colab\"/></a>"
      ]
    },
    {
      "cell_type": "code",
      "execution_count": 1,
      "metadata": {
        "colab": {
          "base_uri": "https://localhost:8080/",
          "height": 705,
          "referenced_widgets": [
            "7672e3a2064a4311982ba437a589b54d",
            "ffb54a5ed6f844538c2d9331bea06ab0",
            "f11e1de8ca0d446ca023cb313176c2ee",
            "618e13918f8b41ecb01f007a834152ed",
            "f2e3614c77d44f36b9bcef8b99c9ea19",
            "6138e19d6a974fa497839a72962085f0",
            "c0f9f8e991c24a6d907ed08169d868ce",
            "6171519048b64383a53e79e254e55823",
            "79ccdc99951d484faa98d0bee116cb21",
            "7735f84458634a5fbbe939113eb3f4a0",
            "0461cbf1661e4b35b05f8f7cfba0115b",
            "f180890a644b41e786019fee9f069020",
            "684e3421cc764a95b3f43e487fc11a3b",
            "2c77d752a46f4b7bb51f05aee41856c4",
            "3bf7b7594e804b23ba3e1e7ee921dddb",
            "b5b0334c999c4f59965956fce0e4b068",
            "379be6425d6740ad923a968f1a313b72",
            "410d85549e7d46f0aa093b15693c4bad",
            "660653488d5241649ee7eea7e4a97eac",
            "d1abe6e523f94042a7030254783e8aee",
            "1dda425a0c874447b81f26c5828d1b39",
            "c79e79700b964507ac963f0795207afb",
            "aa987e1c1ecb409a8e501cc0b111e595",
            "7e4b0d2cebd64c28b21f08109c24dfe9",
            "1bba17dd3b59489e97070b7e7fac74b1",
            "23c7a49ab2284dab86e11d3a3697959c",
            "7a0b6fa0da4d4680be4327a41a83bec9",
            "9cf68990650c4e6fbfebbd71cfa78f73",
            "eb510933e242407fad52154eea0118c0",
            "d0e73a4caa0f4feca45ef98ad9e103fd",
            "fcea4a2b64f04ed384ddddb3214c1a19",
            "ab10dee4d7844bcebd26d465efdf6269",
            "df1d482f5afe4b92a79d2794ec1f709d",
            "bc061ec99da748a0b94f29892827660e",
            "51546723d5cd4bdd84801f9d5b4a6148",
            "3b8462c444434f36b613dea6807c1206",
            "b162ba9ec0b947229362389ed27796c6",
            "3a7ca0d4d3614d09ba71882f70a47792",
            "8fb26abd184142b79df06e4012a0dd68",
            "0c2a9e68f53d4739b955882c38ff14e9",
            "5b1c63a86ea34e65bea29ad556e2e2e1",
            "77e61e6bcbb84a60b0fa8c534dee97e9",
            "f57f980a23c74caea5e01aab5757a76c",
            "678070267a9c4fe88e3e942321c4a8bd",
            "c10ddd2e034148ec911ddceb9768514a",
            "6081a858041b4a60b6e7108412e7f8bb",
            "f3eebd7c00e2464a8f24dc5c08a57949",
            "46589e80d59445c8bfa8a18392c9b8e3",
            "6ed4464d9be6445190bdcdfe7da15601",
            "06e044ee93f24f3f84e98021eb2cbe92",
            "b62dd349437941089b27953e671e8ca7",
            "3f8a0d7c46ed4af7a4d3ba8b4bd9c507",
            "d699d2a0ca6c46ffa9667c83f0bf89dc",
            "ed2c138ebb4b4463be6ce6240967ead8",
            "4b1a26f7494d4a51830ce6d7716965a3",
            "2514e0bbe3e04502a673b44cf05509a1",
            "737c2d308238484995f266ee05b3ad43",
            "9fb77acbecc94b64b2e98597cb767d13",
            "cedcb01290e348438879a541fcb3c019",
            "11863baf1a494f3ab11d0cb07efc4101",
            "b2a9fb2a80a94076952620fe62bfe32d",
            "84a47eada05e48868b2d6233fe1f204c",
            "6bd98cdc82bd4a268381a9ee9edf5bcd",
            "cbb513793e844774b76bc4df61f824d5",
            "26062e9c30f5400a8b999e235e2d60e5",
            "c9d04da259de49b58387bef2c97cc6e2",
            "afd2fe29d77a4f2d977d3160ff9d699e",
            "5057c30c6878486cb3b042660055d168",
            "dc015c2652e746a6ad9b0a77188f5950",
            "dd9a7319fae841639d8bc0ccaebd470b",
            "4118de8eb50c451e903a14aa5634a2ff",
            "e66bbaa81a184363b2e37c2ac808438b",
            "5f5995a4e80d4b13abdbff6183b58272",
            "df69ef2c0152452089d7aab5febde080",
            "bd2da2e2d2984d6eb03b5d82fed37040",
            "7a3dde2137654ff68d1c97b5628697b4",
            "65944e9ab924490a893bde7c8894bfdd"
          ]
        },
        "id": "LT44iBpwL39F",
        "outputId": "d1cd5c63-66f0-486d-eb2d-be0bc5f6989c"
      },
      "outputs": [
        {
          "output_type": "display_data",
          "data": {
            "text/plain": [
              "tokenizer_config.json: 0.00B [00:00, ?B/s]"
            ],
            "application/vnd.jupyter.widget-view+json": {
              "version_major": 2,
              "version_minor": 0,
              "model_id": "7672e3a2064a4311982ba437a589b54d"
            }
          },
          "metadata": {}
        },
        {
          "output_type": "display_data",
          "data": {
            "text/plain": [
              "vocab.json: 0.00B [00:00, ?B/s]"
            ],
            "application/vnd.jupyter.widget-view+json": {
              "version_major": 2,
              "version_minor": 0,
              "model_id": "f180890a644b41e786019fee9f069020"
            }
          },
          "metadata": {}
        },
        {
          "output_type": "display_data",
          "data": {
            "text/plain": [
              "merges.txt: 0.00B [00:00, ?B/s]"
            ],
            "application/vnd.jupyter.widget-view+json": {
              "version_major": 2,
              "version_minor": 0,
              "model_id": "aa987e1c1ecb409a8e501cc0b111e595"
            }
          },
          "metadata": {}
        },
        {
          "output_type": "display_data",
          "data": {
            "text/plain": [
              "tokenizer.json: 0.00B [00:00, ?B/s]"
            ],
            "application/vnd.jupyter.widget-view+json": {
              "version_major": 2,
              "version_minor": 0,
              "model_id": "bc061ec99da748a0b94f29892827660e"
            }
          },
          "metadata": {}
        },
        {
          "output_type": "display_data",
          "data": {
            "text/plain": [
              "config.json:   0%|          | 0.00/681 [00:00<?, ?B/s]"
            ],
            "application/vnd.jupyter.widget-view+json": {
              "version_major": 2,
              "version_minor": 0,
              "model_id": "c10ddd2e034148ec911ddceb9768514a"
            }
          },
          "metadata": {}
        },
        {
          "output_type": "display_data",
          "data": {
            "text/plain": [
              "model.safetensors:   0%|          | 0.00/988M [00:00<?, ?B/s]"
            ],
            "application/vnd.jupyter.widget-view+json": {
              "version_major": 2,
              "version_minor": 0,
              "model_id": "2514e0bbe3e04502a673b44cf05509a1"
            }
          },
          "metadata": {}
        },
        {
          "output_type": "display_data",
          "data": {
            "text/plain": [
              "generation_config.json:   0%|          | 0.00/138 [00:00<?, ?B/s]"
            ],
            "application/vnd.jupyter.widget-view+json": {
              "version_major": 2,
              "version_minor": 0,
              "model_id": "afd2fe29d77a4f2d977d3160ff9d699e"
            }
          },
          "metadata": {}
        },
        {
          "output_type": "execute_result",
          "data": {
            "text/plain": [
              "Qwen2ForCausalLM(\n",
              "  (model): Qwen2Model(\n",
              "    (embed_tokens): Embedding(151936, 896)\n",
              "    (layers): ModuleList(\n",
              "      (0-23): 24 x Qwen2DecoderLayer(\n",
              "        (self_attn): Qwen2Attention(\n",
              "          (q_proj): Linear(in_features=896, out_features=896, bias=True)\n",
              "          (k_proj): Linear(in_features=896, out_features=128, bias=True)\n",
              "          (v_proj): Linear(in_features=896, out_features=128, bias=True)\n",
              "          (o_proj): Linear(in_features=896, out_features=896, bias=False)\n",
              "        )\n",
              "        (mlp): Qwen2MLP(\n",
              "          (gate_proj): Linear(in_features=896, out_features=4864, bias=False)\n",
              "          (up_proj): Linear(in_features=896, out_features=4864, bias=False)\n",
              "          (down_proj): Linear(in_features=4864, out_features=896, bias=False)\n",
              "          (act_fn): SiLUActivation()\n",
              "        )\n",
              "        (input_layernorm): Qwen2RMSNorm((896,), eps=1e-06)\n",
              "        (post_attention_layernorm): Qwen2RMSNorm((896,), eps=1e-06)\n",
              "      )\n",
              "    )\n",
              "    (norm): Qwen2RMSNorm((896,), eps=1e-06)\n",
              "    (rotary_emb): Qwen2RotaryEmbedding()\n",
              "  )\n",
              "  (lm_head): Linear(in_features=896, out_features=151936, bias=False)\n",
              ")"
            ]
          },
          "metadata": {},
          "execution_count": 1
        }
      ],
      "source": [
        "\n",
        "import torch\n",
        "from transformers import AutoModelForCausalLM, AutoTokenizer\n",
        "\n",
        "model_name = \"Qwen/Qwen2.5-0.5B\"\n",
        "tokenizer = AutoTokenizer.from_pretrained(model_name)\n",
        "model = AutoModelForCausalLM.from_pretrained(model_name)\n",
        "model.eval()"
      ]
    },
    {
      "cell_type": "code",
      "source": [
        "import torch.nn.functional as F\n",
        "\n",
        "\n",
        "prompt = \"Transformer architecture is \"\n",
        "inputs = tokenizer(prompt,return_tensors = \"pt\")\n",
        "\n",
        "with torch.no_grad():\n",
        "    out = model(**inputs)\n",
        "    raw_logits = out.logits\n",
        "\n",
        "last_row = raw_logits[:,-1,:]\n",
        "\n",
        "# Let us start to formalize different techniques\n",
        "\n",
        "# Greedy\n",
        "\n",
        "def greedy_decode(raw_logits):\n",
        "    probs = F.softmax(raw_logits,dim=-1)\n",
        "    next_token = torch.argmax(probs,dim=-1)\n",
        "    return next_token\n",
        "\n",
        "\n",
        "nxt_token_id = greedy_decode(last_row).item()\n",
        "\n",
        "print(nxt_token_id)\n",
        "print(tokenizer.decode([nxt_token_id]))\n",
        "\n",
        "# ok that's not that useful, but good for recalling the procedure"
      ],
      "metadata": {
        "colab": {
          "base_uri": "https://localhost:8080/"
        },
        "id": "qGSVTJDYMJyL",
        "outputId": "c792c2b2-6938-428e-e618-ce18dd48e4a8"
      },
      "execution_count": 13,
      "outputs": [
        {
          "output_type": "stream",
          "name": "stdout",
          "text": [
            "16\n",
            "1\n"
          ]
        }
      ]
    },
    {
      "cell_type": "code",
      "source": [
        "\n",
        "# ok so we already familiar with this function\n",
        "def generate(model,tokenizer,prompt,max_length=10,fn_decode_strategy=greedy_decode):\n",
        "    inputs = tokenizer(prompt,return_tensors=\"pt\")\n",
        "\n",
        "    input_ids = inputs[\"input_ids\"]\n",
        "    attention_mask = inputs[\"attention_mask\"]\n",
        "    generated_tokens = list()\n",
        "\n",
        "    for step in range(max_length):\n",
        "        with torch.no_grad():\n",
        "            out = model(input_ids = input_ids,\n",
        "                        attention_mask = attention_mask)\n",
        "\n",
        "            logits_last = out.logits[:,-1,:]\n",
        "\n",
        "\n",
        "            ### Core plugin idea of decode_strategy\n",
        "\n",
        "            next_token_id = fn_decode_strategy(logits_last)\n",
        "\n",
        "            token_id_int = next_token_id.item()\n",
        "\n",
        "            # next token text\n",
        "            next_token = tokenizer.decode(token_id_int)\n",
        "\n",
        "            if tokenizer.eos_token_id is not None and token_id_int == tokenizer.eos_token_id:\n",
        "                break\n",
        "\n",
        "            generated_tokens.append(next_token)\n",
        "\n",
        "            # now let's update inputs, since we want to continue generations\n",
        "            # with newly minted token in context\n",
        "\n",
        "            # append to context: make shape [1,1], then cat\n",
        "            next_token_2d = next_token_id.view(1, 1)        # [1, 1]\n",
        "\n",
        "            input_ids = torch.cat([input_ids, next_token_2d], dim=1)\n",
        "\n",
        "            attention_mask = torch.cat(\n",
        "                [attention_mask, torch.ones((1, 1), dtype=attention_mask.dtype)], dim=1\n",
        "            )\n",
        "\n",
        "    continuation = \"\".join(generated_tokens)\n",
        "\n",
        "    return continuation, prompt + continuation\n",
        "\n"
      ],
      "metadata": {
        "id": "vkpRyS_QOgC_"
      },
      "execution_count": 14,
      "outputs": []
    },
    {
      "cell_type": "code",
      "source": [
        "# let's test greedy\n",
        "\n",
        "_,res = generate(model,tokenizer,prompt,10,greedy_decode)\n",
        "print(res)"
      ],
      "metadata": {
        "colab": {
          "base_uri": "https://localhost:8080/"
        },
        "id": "th3mLp0ESLTr",
        "outputId": "9f8cdd4e-f42c-472d-90e9-0f68a733da81"
      },
      "execution_count": 20,
      "outputs": [
        {
          "output_type": "stream",
          "name": "stdout",
          "text": [
            "Transformer architecture is 100% open source, and is available\n"
          ]
        }
      ]
    },
    {
      "cell_type": "code",
      "source": [
        "# so next idea is \"what is a temperature?\"\n",
        "import torch\n",
        "import torch.nn.functional as F\n",
        "import matplotlib.pyplot as plt\n",
        "import numpy as np\n",
        "\n",
        "def visualize_temperature_effects():\n",
        "    # Example logits for 5 tokens\n",
        "    logits = torch.tensor([2.0, 1.5, 0.5, -0.5, -2.0])\n",
        "    temperatures = [0.1, 0.3, 0.5, 1.0,5.0]\n",
        "\n",
        "    fig, axes = plt.subplots(1, 5, figsize=(15, 3))\n",
        "\n",
        "    for idx, temp in enumerate(temperatures):\n",
        "        changed_logits = logits/temp\n",
        "        # so please notice  temperature is applied in way by division\n",
        "        # so basically if value was big it becomes bigger when temp in\n",
        "        # range(0,1)\n",
        "        # and obviosuly you can see after 1, it flattens most of the values\n",
        "        # so like it almost became random\n",
        "\n",
        "\n",
        "        probs = F.softmax(changed_logits,dim=-1)\n",
        "\n",
        "        axes[idx].bar(range(len(probs)), probs.numpy())\n",
        "        axes[idx].set_title(f'T = {temp}')\n",
        "        axes[idx].set_ylim(0, 1)\n",
        "        axes[idx].set_xlabel('Token ID')\n",
        "        axes[idx].set_ylabel('Probability')\n",
        "\n",
        "    plt.suptitle('Effect of Temperature on Probability Distribution')\n",
        "    plt.tight_layout()\n",
        "    plt.show()\n",
        "\n",
        "visualize_temperature_effects()\n",
        "\n",
        "# so this one should be pretty mach illustrative"
      ],
      "metadata": {
        "colab": {
          "base_uri": "https://localhost:8080/",
          "height": 245
        },
        "id": "E_hfgfZTSXpm",
        "outputId": "4daa35c5-5126-4c7f-988d-dd010e4599c1"
      },
      "execution_count": 29,
      "outputs": [
        {
          "output_type": "display_data",
          "data": {
            "text/plain": [
              "<Figure size 1500x300 with 5 Axes>"
            ],
            "image/png": "[encoded data removed]"
          },
          "metadata": {}
        }
      ]
    },
    {
      "cell_type": "code",
      "source": [
        "def demonstrate_division_effect():\n",
        "    \"\"\"\n",
        "    Show how division by temperature amplifies or dampens differences\n",
        "    \"\"\"\n",
        "    original_logit = 6.0\n",
        "\n",
        "    print(\"Original logit: 6.0\")\n",
        "    print(\"=\" * 50)\n",
        "\n",
        "    print(\"\\nTEMPERATURE < 1 (Division by fraction = MULTIPLICATION)\")\n",
        "    for temp in [0.1, 0.3, 0.5, 0.7, 0.9]:\n",
        "        scaled = original_logit / temp\n",
        "        print(f\"6.0 / {temp} = {scaled:.1f} (multiplied by {1/temp:.1f})\")\n",
        "\n",
        "    print(\"\\nTEMPERATURE > 1 (Division = SHRINKING)\")\n",
        "    for temp in [1.0, 1.5, 2.0, 3.0, 5.0]:\n",
        "        scaled = original_logit / temp\n",
        "        print(f\"6.0 / {temp} = {scaled:.1f} (divided by {temp})\")\n",
        "\n",
        "demonstrate_division_effect()"
      ],
      "metadata": {
        "colab": {
          "base_uri": "https://localhost:8080/"
        },
        "id": "hnqOImq0UR9J",
        "outputId": "bc588452-a7f8-41c6-b9d2-bade1fd59a84"
      },
      "execution_count": 30,
      "outputs": [
        {
          "output_type": "stream",
          "name": "stdout",
          "text": [
            "Original logit: 6.0\n",
            "==================================================\n",
            "\n",
            "TEMPERATURE < 1 (Division by fraction = MULTIPLICATION)\n",
            "6.0 / 0.1 = 60.0 (multiplied by 10.0)\n",
            "6.0 / 0.3 = 20.0 (multiplied by 3.3)\n",
            "6.0 / 0.5 = 12.0 (multiplied by 2.0)\n",
            "6.0 / 0.7 = 8.6 (multiplied by 1.4)\n",
            "6.0 / 0.9 = 6.7 (multiplied by 1.1)\n",
            "\n",
            "TEMPERATURE > 1 (Division = SHRINKING)\n",
            "6.0 / 1.0 = 6.0 (divided by 1.0)\n",
            "6.0 / 1.5 = 4.0 (divided by 1.5)\n",
            "6.0 / 2.0 = 3.0 (divided by 2.0)\n",
            "6.0 / 3.0 = 2.0 (divided by 3.0)\n",
            "6.0 / 5.0 = 1.2 (divided by 5.0)\n"
          ]
        }
      ]
    },
    {
      "cell_type": "code",
      "source": [
        "#Assignment : Implement text_generation, apply greedy with different temperatures\n",
        "\n",
        "# there are like dozen different techniques, to explore\n",
        "# but we finish with another two"
      ],
      "metadata": {
        "id": "cZBnTpbKWdLN"
      },
      "execution_count": 31,
      "outputs": []
    },
    {
      "cell_type": "code",
      "source": [
        "# top-k sampling\n",
        "\n",
        "# algo find_k_largest values,filter only those values, softmax to get probs\n",
        "# out of those probs get random one, according to given probabilities\n",
        "\n",
        "def simple_top_k(raw_logits,k = 5):\n",
        "    # step 1 find k_largest values, we also need their indices, since it's effectivly token_ids\n",
        "    top_k_logits,top_k_indices = torch.topk(raw_logits,k)\n",
        "\n",
        "    # step 2 create new_logits and filter\n",
        "    filtered_logits = torch.full_like(raw_logits, float('-inf'))\n",
        "    # Use scatter to put values back\n",
        "    filtered_logits.scatter_(-1, top_k_indices, top_k_logits)\n",
        "\n",
        "    # step 3 sample one according to probs\n",
        "    probs = F.softmax(filtered_logits,dim=-1)\n",
        "    next_token = torch.multinomial(probs, 1)\n",
        "\n",
        "    return next_token\n",
        "\n",
        "_,res = generate(model,tokenizer,prompt,15,simple_top_k)\n",
        "print(res)"
      ],
      "metadata": {
        "colab": {
          "base_uri": "https://localhost:8080/"
        },
        "id": "R5d_LRe9YQFX",
        "outputId": "7de7aee5-26c3-4863-f7d6-0258a135ec0d"
      },
      "execution_count": 35,
      "outputs": [
        {
          "output_type": "stream",
          "name": "stdout",
          "text": [
            "Transformer architecture is 100% open-source and open to anyone to contribute.\n",
            "The Transformer\n"
          ]
        }
      ]
    },
    {
      "cell_type": "code",
      "source": [
        "# top-p(nucleus) sampling\n",
        "\n",
        "# algo:\n",
        "# 1) apply softmax to get probabilities and sort them\n",
        "# 2)keep tokens by adding their probabilities till reaching thershold\n",
        "# 3) sample random token haha, I don't know why but\n",
        "# everything is a random, but it works almost\n",
        "\n",
        "def simple_top_p(raw_logits,p = 0.7):\n",
        "    # step1 get probs and sort them\n",
        "    probs = F.softmax(raw_logits,dim=-1)\n",
        "    sorted_probs,sorted_indices = torch.sort(probs,descending =True) # so highes probs goes first\n",
        "\n",
        "    # step2 cumulative_sum\n",
        "    cumsum_probs = torch.cumsum(sorted_probs,dim=-1)\n",
        "\n",
        "    tokens_to_remove = cumsum_probs > p # this will mask all tokens to remove = True\n",
        "    tokens_to_remove[..., 0] = False  # Keep at least first token # try to comment to see the problem\n",
        "    # \"No matter how aggressive our filtering is, always keep the best token!\"\n",
        "\n",
        "    # Create filtered logits\n",
        "    filtered_logits = raw_logits.clone()\n",
        "\n",
        "    # Use scatter to map removal mask back to original positions\n",
        "    indices_to_remove = tokens_to_remove.scatter(-1, sorted_indices, tokens_to_remove)\n",
        "    filtered_logits[indices_to_remove] = float('-inf')\n",
        "\n",
        "    # Sample\n",
        "    probs = F.softmax(filtered_logits, dim=-1)\n",
        "    next_token = torch.multinomial(probs, 1)\n",
        "\n",
        "    return next_token\n",
        "\n",
        "\n",
        "_,res = generate(model,tokenizer,prompt,15,simple_top_p)\n",
        "print(res)"
      ],
      "metadata": {
        "colab": {
          "base_uri": "https://localhost:8080/"
        },
        "id": "QkkfMiWka91D",
        "outputId": "d2ef77c3-7916-42b5-b034-068fa4b410dd"
      },
      "execution_count": 48,
      "outputs": [
        {
          "output_type": "stream",
          "name": "stdout",
          "text": [
            "Transformer architecture is 1) designed to provide the best results in the context of specific performance requirements\n"
          ]
        }
      ]
    },
    {
      "cell_type": "code",
      "source": [
        "\n",
        "# sorting\n",
        "import torch\n",
        "\n",
        "# Simple example\n",
        "values = torch.tensor([3.0, 1.0, 4.0, 1.5, 2.0])\n",
        "print(\"Original:\", values)\n",
        "\n",
        "# Sort in ascending order (default)\n",
        "sorted_vals, sorted_idx = torch.sort(values)\n",
        "print(\"\\nAscending:\")\n",
        "print(\"Sorted values:\", sorted_vals)  # [1.0, 1.5, 2.0, 3.0, 4.0]\n",
        "print(\"Sorted indices:\", sorted_idx)  # [1, 3, 4, 0, 2]\n",
        "#                                        ↑ means values[1]=1.0 is smallest\n",
        "\n",
        "# Sort in descending order\n",
        "sorted_vals, sorted_idx = torch.sort(values, descending=True)\n",
        "print(\"\\nDescending:\")\n",
        "print(\"Sorted values:\", sorted_vals)  # [4.0, 3.0, 2.0, 1.5, 1.0]\n",
        "print(\"Sorted indices:\", sorted_idx)  # [2, 0, 4, 3, 1]\n",
        "#                                        ↑ means values[2]=4.0 is largest\n",
        "\n",
        "# What do indices mean?\n",
        "print(\"\\nReconstruct original from sorted:\")\n",
        "print(\"values[sorted_idx] =\", values[sorted_idx])\n",
        "print(\"This equals sorted_vals:\", sorted_vals)"
      ],
      "metadata": {
        "colab": {
          "base_uri": "https://localhost:8080/"
        },
        "id": "CtSaXg3ud5JG",
        "outputId": "f70a4eb7-4b6c-4564-9911-62b54821961d"
      },
      "execution_count": 38,
      "outputs": [
        {
          "output_type": "stream",
          "name": "stdout",
          "text": [
            "Original: tensor([3.0000, 1.0000, 4.0000, 1.5000, 2.0000])\n",
            "\n",
            "Ascending:\n",
            "Sorted values: tensor([1.0000, 1.5000, 2.0000, 3.0000, 4.0000])\n",
            "Sorted indices: tensor([1, 3, 4, 0, 2])\n",
            "\n",
            "Descending:\n",
            "Sorted values: tensor([4.0000, 3.0000, 2.0000, 1.5000, 1.0000])\n",
            "Sorted indices: tensor([2, 0, 4, 3, 1])\n",
            "\n",
            "Reconstruct original from sorted:\n",
            "values[sorted_idx] = tensor([4.0000, 3.0000, 2.0000, 1.5000, 1.0000])\n",
            "This equals sorted_vals: tensor([4.0000, 3.0000, 2.0000, 1.5000, 1.0000])\n"
          ]
        }
      ]
    },
    {
      "cell_type": "code",
      "source": [
        "# cumsum\n",
        "# Cumulative sum - running total\n",
        "probs = torch.tensor([0.4, 0.3, 0.15, 0.1, 0.05])\n",
        "print(\"Original probs:\", probs)\n",
        "\n",
        "cumsum = torch.cumsum(probs, dim=-1)\n",
        "print(\"Cumulative sum:\", cumsum)\n",
        "# [0.4, 0.7, 0.85, 0.95, 1.0]\n",
        "#   ↑    ↑     ↑     ↑    ↑\n",
        "#  0.4  +0.3  +0.15 +0.1 +0.05\n",
        "\n",
        "# Visual breakdown:\n",
        "print(\"\\nStep by step:\")\n",
        "print(f\"Position 0: {probs[0]:.2f} = {probs[0]:.2f}\")\n",
        "print(f\"Position 1: {probs[0]:.2f} + {probs[1]:.2f} = {cumsum[1]:.2f}\")\n",
        "print(f\"Position 2: {probs[0]:.2f} + {probs[1]:.2f} + {probs[2]:.2f} = {cumsum[2]:.2f}\")\n",
        "\n",
        "# Why useful for top-p?\n",
        "p = 0.9\n",
        "print(f\"\\nFor p={p}, we want tokens until cumsum > {p}\")\n",
        "print(\"Mask:\", cumsum > p)  # [False, False, False, True, True]\n",
        "print(\"So we keep first 3 tokens (cumsum = 0.85)\")"
      ],
      "metadata": {
        "colab": {
          "base_uri": "https://localhost:8080/"
        },
        "id": "Wg1xVHx1gHAB",
        "outputId": "707d4baf-b056-4e77-8416-3bba420a18f1"
      },
      "execution_count": 39,
      "outputs": [
        {
          "output_type": "stream",
          "name": "stdout",
          "text": [
            "Original probs: tensor([0.4000, 0.3000, 0.1500, 0.1000, 0.0500])\n",
            "Cumulative sum: tensor([0.4000, 0.7000, 0.8500, 0.9500, 1.0000])\n",
            "\n",
            "Step by step:\n",
            "Position 0: 0.40 = 0.40\n",
            "Position 1: 0.40 + 0.30 = 0.70\n",
            "Position 2: 0.40 + 0.30 + 0.15 = 0.85\n",
            "\n",
            "For p=0.9, we want tokens until cumsum > 0.9\n",
            "Mask: tensor([False, False, False,  True,  True])\n",
            "So we keep first 3 tokens (cumsum = 0.85)\n"
          ]
        }
      ]
    },
    {
      "cell_type": "code",
      "source": [
        "# tricky one is scatter\n",
        "# Scatter: puts values at specified positions\n",
        "# Think of it as \"reverse indexing\"\n",
        "\n",
        "# Example 1: Basic scatter\n",
        "target = torch.zeros(5)\n",
        "indices = torch.tensor([2, 0, 4])  # Where to put values\n",
        "values = torch.tensor([10., 20., 30.])  # What to put\n",
        "\n",
        "target.scatter_(0, indices, values)\n",
        "print(\"After scatter:\", target)  # [20., 0., 10., 0., 30.]\n",
        "#                                     ↑        ↑         ↑\n",
        "#                                  idx=0     idx=2     idx=4\n",
        "\n"
      ],
      "metadata": {
        "colab": {
          "base_uri": "https://localhost:8080/"
        },
        "id": "NG7oITJOgWgY",
        "outputId": "dda2a2bf-4ab0-4291-e8b3-620e652cc8ca"
      },
      "execution_count": 41,
      "outputs": [
        {
          "output_type": "stream",
          "name": "stdout",
          "text": [
            "After scatter: tensor([20.,  0., 10.,  0., 30.])\n"
          ]
        }
      ]
    },
    {
      "cell_type": "code",
      "source": [
        "# ok based on these 3 ideas, it seems like they can kill each other\n",
        "# so for example if temp is low, it automatically makes one probability higher so basicaly top_p is useless,\n",
        "# since I will sample from 1"
      ],
      "metadata": {
        "id": "-C9gLA8-goVn"
      },
      "execution_count": 48,
      "outputs": []
    },
    {
      "cell_type": "code",
      "source": [
        "# so less is more\n",
        "def the_bottom_line():\n",
        "\n",
        "    print(\"The Paradox:\")\n",
        "    print(\"-\" * 40)\n",
        "    print(\"Low temp → Peaked distribution → Top-p keeps 1 token\")\n",
        "    print(\"High temp → Flat distribution → Top-k becomes limiting factor\")\n",
        "\n",
        "    print(\"\\nThe Solution:\")\n",
        "    print(\"-\" * 40)\n",
        "    print(\"DON'T use all three at full strength!\")\n",
        "    print(\"\")\n",
        "    print(\"Option 1: temp(0.7-0.9) + top_p(0.9)\")\n",
        "    print(\"Option 2: temp(0.3-0.5) + top_k(20)\")\n",
        "    print(\"Option 3: temp(0.0) + nothing (greedy)\") # here notice the bug I have in my code\n",
        "    # let's address it !\n",
        "\n",
        "    print(\"\\nThe Rule of Thumb:\")\n",
        "    print(\"-\" * 40)\n",
        "    print(\"If temp < 0.5: Don't bother with top-p\")\n",
        "    print(\"If temp > 1.5: You need constraints (top-k or top-p)\")\n",
        "    print(\"If temp ≈ 1.0: Both top-k and top-p are useful\")\n",
        "\n",
        "the_bottom_line()"
      ],
      "metadata": {
        "colab": {
          "base_uri": "https://localhost:8080/"
        },
        "id": "cNQzTNrLiLe8",
        "outputId": "2f84096e-b530-4853-ed33-d52285fa2cc5"
      },
      "execution_count": 49,
      "outputs": [
        {
          "output_type": "stream",
          "name": "stdout",
          "text": [
            "The Paradox:\n",
            "----------------------------------------\n",
            "Low temp → Peaked distribution → Top-p keeps 1 token\n",
            "High temp → Flat distribution → Top-k becomes limiting factor\n",
            "\n",
            "The Solution:\n",
            "----------------------------------------\n",
            "DON'T use all three at full strength!\n",
            "\n",
            "Option 1: temp(0.7-0.9) + top_p(0.9)\n",
            "Option 2: temp(0.3-0.5) + top_k(20)\n",
            "Option 3: temp(0.0) + nothing (greedy)\n",
            "\n",
            "The Rule of Thumb:\n",
            "----------------------------------------\n",
            "If temp < 0.5: Don't bother with top-p\n",
            "If temp > 1.5: You need constraints (top-k or top-p)\n",
            "If temp ≈ 1.0: Both top-k and top-p are useful\n"
          ]
        }
      ]
    },
    {
      "cell_type": "code",
      "source": [],
      "metadata": {
        "id": "PPy700qQlFGV"
      },
      "execution_count": null,
      "outputs": []
    }
  ]
}
