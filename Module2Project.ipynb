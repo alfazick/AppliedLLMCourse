{
  "nbformat": 4,
  "nbformat_minor": 0,
  "metadata": {
    "colab": {
      "provenance": [],
      "authorship_tag": "ABX9TyO6PrdVGXQdP/p12sq2zQYD",
      "include_colab_link": true
    },
    "kernelspec": {
      "name": "python3",
      "display_name": "Python 3"
    },
    "language_info": {
      "name": "python"
    }
  },
  "cells": [
    {
      "cell_type": "markdown",
      "metadata": {
        "id": "view-in-github",
        "colab_type": "text"
      },
      "source": [
        "<a href=\"https://colab.research.google.com/github/alfazick/AppliedLLMCourse/blob/main/Module2Project.ipynb\" target=\"_parent\"><img src=\"https://colab.research.google.com/assets/colab-badge.svg\" alt=\"Open In Colab\"/></a>"
      ]
    },
    {
      "cell_type": "code",
      "execution_count": 4,
      "metadata": {
        "colab": {
          "base_uri": "https://localhost:8080/"
        },
        "id": "v-BftDEhyf5H",
        "outputId": "206ea09e-dd78-44aa-d7e1-97cbc4e98e93"
      },
      "outputs": [
        {
          "output_type": "stream",
          "name": "stderr",
          "text": [
            "No model was supplied, defaulted to distilbert/distilbert-base-uncased-finetuned-sst-2-english and revision 714eb0f (https://huggingface.co/distilbert/distilbert-base-uncased-finetuned-sst-2-english).\n",
            "Using a pipeline without specifying a model name and revision in production is not recommended.\n",
            "Device set to use cpu\n"
          ]
        },
        {
          "output_type": "execute_result",
          "data": {
            "text/plain": [
              "[{'label': 'NEGATIVE', 'score': 0.9929879307746887}]"
            ]
          },
          "metadata": {},
          "execution_count": 4
        }
      ],
      "source": [
        "# Projects\n",
        "# Classification\n",
        "\n",
        "\n",
        "from transformers import pipeline\n",
        "\n",
        "classifier = pipeline(\"sentiment-analysis\")\n",
        "classifier(\"This is a promt injection\")"
      ]
    },
    {
      "cell_type": "code",
      "source": [
        "from datasets import load_dataset\n",
        "\n",
        "# 50,000 movie reviews (25k train, 25k test)\n",
        "imdb = load_dataset(\"imdb\")\n",
        "print(imdb['train'][0])\n",
        "# {'text': 'I loved this movie...', 'label': 1}  # 0=negative, 1=positive"
      ],
      "metadata": {
        "colab": {
          "base_uri": "https://localhost:8080/"
        },
        "id": "oOAGQoO3zAP2",
        "outputId": "48ad1645-9865-4c8f-fca6-4fd09aa0368d"
      },
      "execution_count": 6,
      "outputs": [
        {
          "output_type": "stream",
          "name": "stdout",
          "text": [
            "{'text': 'I rented I AM CURIOUS-YELLOW from my video store because of all the controversy that surrounded it when it was first released in 1967. I also heard that at first it was seized by U.S. customs if it ever tried to enter this country, therefore being a fan of films considered \"controversial\" I really had to see this for myself.<br /><br />The plot is centered around a young Swedish drama student named Lena who wants to learn everything she can about life. In particular she wants to focus her attentions to making some sort of documentary on what the average Swede thought about certain political issues such as the Vietnam War and race issues in the United States. In between asking politicians and ordinary denizens of Stockholm about their opinions on politics, she has sex with her drama teacher, classmates, and married men.<br /><br />What kills me about I AM CURIOUS-YELLOW is that 40 years ago, this was considered pornographic. Really, the sex and nudity scenes are few and far between, even then it\\'s not shot like some cheaply made porno. While my countrymen mind find it shocking, in reality sex and nudity are a major staple in Swedish cinema. Even Ingmar Bergman, arguably their answer to good old boy John Ford, had sex scenes in his films.<br /><br />I do commend the filmmakers for the fact that any sex shown in the film is shown for artistic purposes rather than just to shock people and make money to be shown in pornographic theaters in America. I AM CURIOUS-YELLOW is a good film for anyone wanting to study the meat and potatoes (no pun intended) of Swedish cinema. But really, this film doesn\\'t have much of a plot.', 'label': 0}\n"
          ]
        }
      ]
    },
    {
      "cell_type": "code",
      "source": [
        "# https://huggingface.co/datasets/stanfordnlp/sst2\n",
        "# Movie reviews with binary sentiment\n",
        "sst2 = load_dataset(\"glue\", \"sst2\")\n",
        "# ~67k training examples\n",
        "print(sst2['train'][0])"
      ],
      "metadata": {
        "colab": {
          "base_uri": "https://localhost:8080/"
        },
        "id": "WgaFmGOa4xHj",
        "outputId": "b373e296-2223-411e-fb94-722f5a67a6d9"
      },
      "execution_count": 9,
      "outputs": [
        {
          "output_type": "stream",
          "name": "stdout",
          "text": [
            "{'sentence': 'hide new secretions from the parental units ', 'label': 0, 'idx': 0}\n"
          ]
        }
      ]
    },
    {
      "cell_type": "code",
      "source": [],
      "metadata": {
        "id": "OeZQkh1X6aTj"
      },
      "execution_count": 11,
      "outputs": []
    },
    {
      "cell_type": "code",
      "source": [
        "# Mini Toy Project\n",
        "# Find the good classifier within hugging face less than 3b parameters\n",
        "# do own research and provide findings, no bloated code just simple your\n",
        "# simple stats and accuracy\n",
        "\n",
        "\n",
        "\n",
        "# Mini Real Project\n",
        "# https://huggingface.co/protectai/deberta-v3-base-prompt-injection\n",
        "# Part #1 Direct Classify\n",
        "# https://huggingface.co/datasets/xTRam1/safe-guard-prompt-injection\n",
        "\n",
        "\n",
        "# Part #2 Harder Classify\n",
        "# https://huggingface.co/datasets/reshabhs/SPML_Chatbot_Prompt_Injection"
      ],
      "metadata": {
        "id": "CvolCYdd0OG8"
      },
      "execution_count": 14,
      "outputs": []
    },
    {
      "cell_type": "code",
      "source": [
        "# Another Level\n",
        "#  Part # 3 Nvidia does the job\n",
        "# # Dataset https://huggingface.co/datasets/nvidia/Aegis-AI-Content-Safety-Dataset-2.0\n",
        "# # Model https://huggingface.co/nvidia/llama-3.1-nemoguard-8b-content-safety\n",
        "\n",
        "# make the below code work till Thanksgiving\n",
        "# and test on dataset and report stats\n"
      ],
      "metadata": {
        "id": "YZEP8AJq8eS8"
      },
      "execution_count": null,
      "outputs": []
    },
    {
      "cell_type": "code",
      "source": [
        "# from peft import PeftModel\n",
        "# from transformers import AutoModelForCausalLM, AutoTokenizer\n",
        "\n",
        "# # Load base once\n",
        "# base_model = AutoModelForCausalLM.from_pretrained(\n",
        "#     \"meta-llama/Meta-Llama-3.1-8B-Instruct\",\n",
        "#     device_map=\"auto\"\n",
        "# )\n",
        "# tokenizer = AutoTokenizer.from_pretrained(\"meta-llama/Meta-Llama-3.1-8B-Instruct\")\n",
        "\n",
        "# # Scenario 1: Content Safety Check\n",
        "# print(\"=== Safety Check ===\")\n",
        "# safety_model = PeftModel.from_pretrained(\n",
        "#     base_model,\n",
        "#     \"nvidia/llama-3.1-nemoguard-8b-content-safety\"\n",
        "# )\n",
        "\n",
        "# prompt = \"Is this content safe: [user input here]\"\n",
        "# inputs = tokenizer(prompt, return_tensors=\"pt\").to(safety_model.device)\n",
        "# outputs = safety_model.generate(**inputs, max_new_tokens=50)\n",
        "# print(tokenizer.decode(outputs[0]))"
      ],
      "metadata": {
        "id": "lUjG0TxO8jpG"
      },
      "execution_count": 13,
      "outputs": []
    },
    {
      "cell_type": "code",
      "source": [],
      "metadata": {
        "id": "1A9AzJ9_8qSD"
      },
      "execution_count": null,
      "outputs": []
    }
  ]
}